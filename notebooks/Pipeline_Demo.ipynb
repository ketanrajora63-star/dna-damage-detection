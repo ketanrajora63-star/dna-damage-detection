{
 "cells": [
  {
   "cell_type": "markdown",
   "id": "d751f5d4",
   "metadata": {},
   "source": [
    "# DNA Damage Detection — Baseline Demo\n",
    "\n",
    "Run segmentation → crops → features. Add labels later to train the classifier."
   ]
  },
  {
   "cell_type": "code",
   "execution_count": null,
   "id": "676872f6",
   "metadata": {},
   "outputs": [],
   "source": [
    "!python -m pipeline.train --input-dir data/raw --work-dir outputs/run1 --segmenter otsu --n-jobs -1"
   ]
  }
 ],
 "metadata": {},
 "nbformat": 4,
 "nbformat_minor": 5
}